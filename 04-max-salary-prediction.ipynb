{
 "cells": [
  {
   "cell_type": "code",
   "execution_count": 1,
   "id": "1cf926f9-a940-47de-b119-ae340d490519",
   "metadata": {},
   "outputs": [],
   "source": [
    "# This notebook includes model developement with target variable as max_salary"
   ]
  },
  {
   "cell_type": "code",
   "execution_count": 2,
   "id": "0a63dadd-75ef-4328-8410-6adf99d2489c",
   "metadata": {},
   "outputs": [],
   "source": [
    "import pandas as pd"
   ]
  },
  {
   "cell_type": "code",
   "execution_count": 3,
   "id": "af63acc3-28fe-4842-b21f-d5b6fa6298c5",
   "metadata": {},
   "outputs": [],
   "source": [
    "file_path = 'Data/cleaned_postings.csv'\n",
    "df = pd.read_csv(file_path)"
   ]
  },
  {
   "cell_type": "markdown",
   "id": "c5f6d57f-7757-4b37-83ba-c02600ca6738",
   "metadata": {},
   "source": [
    "#### Remove outliers"
   ]
  },
  {
   "cell_type": "code",
   "execution_count": 4,
   "id": "0ec1dd87-272d-4ba7-a9e3-07add14bf86d",
   "metadata": {},
   "outputs": [],
   "source": [
    "Q1 = df['max_salary'].quantile(0.25)\n",
    "Q3 = df['max_salary'].quantile(0.75)\n",
    "IQR = Q3 - Q1\n",
    "lower_bound = Q1 - 1.5 * IQR\n",
    "upper_bound = Q3 + 1.5 * IQR\n",
    "\n",
    "df = df[(df['max_salary'] >= lower_bound) & (df['max_salary'] <= upper_bound)]"
   ]
  },
  {
   "cell_type": "markdown",
   "id": "7250d673-6b75-4ec7-9cad-95fed376426d",
   "metadata": {},
   "source": [
    "#### Arrange the data"
   ]
  },
  {
   "cell_type": "code",
   "execution_count": 5,
   "id": "a02866bf-028b-481f-a680-c36c8011e34d",
   "metadata": {},
   "outputs": [],
   "source": [
    "from sklearn.preprocessing import LabelEncoder\n",
    "from sklearn.model_selection import train_test_split\n",
    "\n",
    "label_cols = ['company_name', 'title', 'location', 'formatted_work_type', 'application_type', 'formatted_experience_level', 'work_type', 'pay_period']\n",
    "encoder = LabelEncoder()\n",
    "\n",
    "for col in label_cols:\n",
    "    df.loc[:, col] = encoder.fit_transform(df[col])\n",
    "\n",
    "X = df.drop(columns=['max_salary', 'original_listed_time', 'pay_period'])\n",
    "y = df['max_salary']\n",
    "\n",
    "X_train, X_test, y_train, y_test = train_test_split(X, y, test_size = 0.2, random_state=42)"
   ]
  },
  {
   "cell_type": "markdown",
   "id": "b0efcf96-a3bd-463a-991d-40716641ae71",
   "metadata": {},
   "source": [
    "#### Use Linear Regression"
   ]
  },
  {
   "cell_type": "code",
   "execution_count": 6,
   "id": "54260f93-349a-4412-a486-ff9d26cc4698",
   "metadata": {},
   "outputs": [],
   "source": [
    "from sklearn.linear_model import LinearRegression\n",
    "from sklearn.preprocessing import PolynomialFeatures\n",
    "from sklearn.metrics import mean_absolute_error, mean_squared_error, r2_score\n",
    "\n",
    "lin_reg_model = LinearRegression()\n",
    "\n",
    "poly = PolynomialFeatures(degree = 2)\n",
    "X_train_poly = poly.fit_transform(X_train)\n",
    "X_test_poly = poly.transform(X_test)\n",
    "\n",
    "lin_reg_model.fit(X_train_poly, y_train)\n",
    "\n",
    "y_pred_poly = lin_reg_model.predict(X_test_poly)\n",
    "\n",
    "mae_poly = mean_absolute_error(y_test, y_pred_poly)\n",
    "mse_poly = mean_squared_error(y_test, y_pred_poly)\n",
    "r2_poly = r2_score(y_test, y_pred_poly)"
   ]
  },
  {
   "cell_type": "code",
   "execution_count": 7,
   "id": "aec6d2bd-9e06-44fd-9c0d-ac236c63efa2",
   "metadata": {},
   "outputs": [
    {
     "data": {
      "text/html": [
       "<div>\n",
       "<style scoped>\n",
       "    .dataframe tbody tr th:only-of-type {\n",
       "        vertical-align: middle;\n",
       "    }\n",
       "\n",
       "    .dataframe tbody tr th {\n",
       "        vertical-align: top;\n",
       "    }\n",
       "\n",
       "    .dataframe thead th {\n",
       "        text-align: right;\n",
       "    }\n",
       "</style>\n",
       "<table border=\"1\" class=\"dataframe\">\n",
       "  <thead>\n",
       "    <tr style=\"text-align: right;\">\n",
       "      <th></th>\n",
       "      <th>Mean Absolute Error (MAE)</th>\n",
       "      <th>Mean Squared Error (MSE)</th>\n",
       "      <th>R-squared (R²)</th>\n",
       "    </tr>\n",
       "  </thead>\n",
       "  <tbody>\n",
       "    <tr>\n",
       "      <th>0</th>\n",
       "      <td>29985.397338</td>\n",
       "      <td>1.623594e+09</td>\n",
       "      <td>0.547373</td>\n",
       "    </tr>\n",
       "  </tbody>\n",
       "</table>\n",
       "</div>"
      ],
      "text/plain": [
       "   Mean Absolute Error (MAE)  Mean Squared Error (MSE)  R-squared (R²)\n",
       "0               29985.397338              1.623594e+09        0.547373"
      ]
     },
     "execution_count": 7,
     "metadata": {},
     "output_type": "execute_result"
    }
   ],
   "source": [
    "model_report = {\n",
    "    \"Mean Absolute Error (MAE)\": [mae_poly],\n",
    "    \"Mean Squared Error (MSE)\": [mse_poly],\n",
    "    \"R-squared (R²)\": [r2_poly]\n",
    "}\n",
    "\n",
    "pd.DataFrame(model_report)"
   ]
  },
  {
   "cell_type": "markdown",
   "id": "bd3896c9-e31f-48f3-86b0-2874164d37f3",
   "metadata": {},
   "source": [
    "#### Using RandomForest Regressor"
   ]
  },
  {
   "cell_type": "code",
   "execution_count": 8,
   "id": "4406a8c6-1831-4d8f-b877-ac1a0dff7d40",
   "metadata": {},
   "outputs": [],
   "source": [
    "from sklearn.ensemble import RandomForestRegressor\n",
    "\n",
    "rf_model = RandomForestRegressor(n_estimators=100, random_state=42)\n",
    "\n",
    "rf_model.fit(X_train, y_train)\n",
    "\n",
    "y_pred_rf = rf_model.predict(X_test)\n",
    "\n",
    "mae_rf = mean_absolute_error(y_test, y_pred_rf)\n",
    "mse_rf = mean_squared_error(y_test, y_pred_rf)\n",
    "r2_rf = r2_score(y_test, y_pred_rf)"
   ]
  },
  {
   "cell_type": "code",
   "execution_count": 9,
   "id": "9cea9e8e-e38a-45c9-b683-1632ee6d4585",
   "metadata": {},
   "outputs": [
    {
     "data": {
      "text/html": [
       "<div>\n",
       "<style scoped>\n",
       "    .dataframe tbody tr th:only-of-type {\n",
       "        vertical-align: middle;\n",
       "    }\n",
       "\n",
       "    .dataframe tbody tr th {\n",
       "        vertical-align: top;\n",
       "    }\n",
       "\n",
       "    .dataframe thead th {\n",
       "        text-align: right;\n",
       "    }\n",
       "</style>\n",
       "<table border=\"1\" class=\"dataframe\">\n",
       "  <thead>\n",
       "    <tr style=\"text-align: right;\">\n",
       "      <th></th>\n",
       "      <th>Mean Absolute Error (MAE)</th>\n",
       "      <th>Mean Squared Error (MSE)</th>\n",
       "      <th>R-squared (R²)</th>\n",
       "    </tr>\n",
       "  </thead>\n",
       "  <tbody>\n",
       "    <tr>\n",
       "      <th>0</th>\n",
       "      <td>7096.714084</td>\n",
       "      <td>1.554856e+08</td>\n",
       "      <td>0.956654</td>\n",
       "    </tr>\n",
       "  </tbody>\n",
       "</table>\n",
       "</div>"
      ],
      "text/plain": [
       "   Mean Absolute Error (MAE)  Mean Squared Error (MSE)  R-squared (R²)\n",
       "0                7096.714084              1.554856e+08        0.956654"
      ]
     },
     "execution_count": 9,
     "metadata": {},
     "output_type": "execute_result"
    }
   ],
   "source": [
    "model_report = {\n",
    "    \"Mean Absolute Error (MAE)\": [mae_rf],\n",
    "    \"Mean Squared Error (MSE)\": [mse_rf],\n",
    "    \"R-squared (R²)\": [r2_rf]\n",
    "}\n",
    "pd.DataFrame(model_report)"
   ]
  },
  {
   "cell_type": "code",
   "execution_count": 10,
   "id": "4fe3ec2c-eea1-4e92-8f07-5546a6ed114e",
   "metadata": {},
   "outputs": [
    {
     "data": {
      "text/html": [
       "<div>\n",
       "<style scoped>\n",
       "    .dataframe tbody tr th:only-of-type {\n",
       "        vertical-align: middle;\n",
       "    }\n",
       "\n",
       "    .dataframe tbody tr th {\n",
       "        vertical-align: top;\n",
       "    }\n",
       "\n",
       "    .dataframe thead th {\n",
       "        text-align: right;\n",
       "    }\n",
       "</style>\n",
       "<table border=\"1\" class=\"dataframe\">\n",
       "  <thead>\n",
       "    <tr style=\"text-align: right;\">\n",
       "      <th></th>\n",
       "      <th>Feature</th>\n",
       "      <th>Importance</th>\n",
       "    </tr>\n",
       "  </thead>\n",
       "  <tbody>\n",
       "    <tr>\n",
       "      <th>4</th>\n",
       "      <td>min_salary</td>\n",
       "      <td>0.349439</td>\n",
       "    </tr>\n",
       "    <tr>\n",
       "      <th>8</th>\n",
       "      <td>formatted_experience_level</td>\n",
       "      <td>0.238959</td>\n",
       "    </tr>\n",
       "    <tr>\n",
       "      <th>1</th>\n",
       "      <td>title</td>\n",
       "      <td>0.127039</td>\n",
       "    </tr>\n",
       "    <tr>\n",
       "      <th>5</th>\n",
       "      <td>formatted_work_type</td>\n",
       "      <td>0.090703</td>\n",
       "    </tr>\n",
       "    <tr>\n",
       "      <th>9</th>\n",
       "      <td>work_type</td>\n",
       "      <td>0.078100</td>\n",
       "    </tr>\n",
       "    <tr>\n",
       "      <th>0</th>\n",
       "      <td>company_name</td>\n",
       "      <td>0.044424</td>\n",
       "    </tr>\n",
       "    <tr>\n",
       "      <th>2</th>\n",
       "      <td>location</td>\n",
       "      <td>0.023510</td>\n",
       "    </tr>\n",
       "    <tr>\n",
       "      <th>6</th>\n",
       "      <td>remote_allowed</td>\n",
       "      <td>0.019665</td>\n",
       "    </tr>\n",
       "    <tr>\n",
       "      <th>3</th>\n",
       "      <td>views</td>\n",
       "      <td>0.018569</td>\n",
       "    </tr>\n",
       "    <tr>\n",
       "      <th>7</th>\n",
       "      <td>application_type</td>\n",
       "      <td>0.009591</td>\n",
       "    </tr>\n",
       "  </tbody>\n",
       "</table>\n",
       "</div>"
      ],
      "text/plain": [
       "                      Feature  Importance\n",
       "4                  min_salary    0.349439\n",
       "8  formatted_experience_level    0.238959\n",
       "1                       title    0.127039\n",
       "5         formatted_work_type    0.090703\n",
       "9                   work_type    0.078100\n",
       "0                company_name    0.044424\n",
       "2                    location    0.023510\n",
       "6              remote_allowed    0.019665\n",
       "3                       views    0.018569\n",
       "7            application_type    0.009591"
      ]
     },
     "execution_count": 10,
     "metadata": {},
     "output_type": "execute_result"
    }
   ],
   "source": [
    "feature_importance = rf_model.feature_importances_\n",
    "\n",
    "pd.DataFrame({\n",
    "    'Feature': X.columns,\n",
    "    'Importance': feature_importance\n",
    "}).sort_values(by = 'Importance', ascending = False)"
   ]
  }
 ],
 "metadata": {
  "kernelspec": {
   "display_name": "Python 3 (ipykernel)",
   "language": "python",
   "name": "python3"
  },
  "language_info": {
   "codemirror_mode": {
    "name": "ipython",
    "version": 3
   },
   "file_extension": ".py",
   "mimetype": "text/x-python",
   "name": "python",
   "nbconvert_exporter": "python",
   "pygments_lexer": "ipython3",
   "version": "3.13.0"
  }
 },
 "nbformat": 4,
 "nbformat_minor": 5
}
