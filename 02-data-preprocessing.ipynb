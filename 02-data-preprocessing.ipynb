{
 "cells": [
  {
   "cell_type": "code",
   "execution_count": 1,
   "id": "566d0381-afb2-4f29-9cad-792b21e98996",
   "metadata": {},
   "outputs": [],
   "source": [
    "# This notebook includes data cleaning and type correction steps"
   ]
  },
  {
   "cell_type": "code",
   "execution_count": 2,
   "id": "7f5e90fe-aa2b-4cfe-8965-e85e223516ee",
   "metadata": {},
   "outputs": [],
   "source": [
    "import pandas as pd"
   ]
  },
  {
   "cell_type": "code",
   "execution_count": 3,
   "id": "5db43b3c-a293-4cdf-834b-10011f574e5c",
   "metadata": {},
   "outputs": [],
   "source": [
    "file_path = 'Data/postings.csv'\n",
    "df = pd.read_csv(file_path)"
   ]
  },
  {
   "cell_type": "code",
   "execution_count": 4,
   "id": "909542f2-657a-4b2e-9c51-7af2d8a28189",
   "metadata": {},
   "outputs": [
    {
     "name": "stdout",
     "output_type": "stream",
     "text": [
      "<class 'pandas.core.frame.DataFrame'>\n",
      "RangeIndex: 123849 entries, 0 to 123848\n",
      "Data columns (total 31 columns):\n",
      " #   Column                      Non-Null Count   Dtype  \n",
      "---  ------                      --------------   -----  \n",
      " 0   job_id                      123849 non-null  int64  \n",
      " 1   company_name                122130 non-null  object \n",
      " 2   title                       123849 non-null  object \n",
      " 3   description                 123842 non-null  object \n",
      " 4   max_salary                  29793 non-null   float64\n",
      " 5   pay_period                  36073 non-null   object \n",
      " 6   location                    123849 non-null  object \n",
      " 7   company_id                  122132 non-null  float64\n",
      " 8   views                       122160 non-null  float64\n",
      " 9   med_salary                  6280 non-null    float64\n",
      " 10  min_salary                  29793 non-null   float64\n",
      " 11  formatted_work_type         123849 non-null  object \n",
      " 12  applies                     23320 non-null   float64\n",
      " 13  original_listed_time        123849 non-null  float64\n",
      " 14  remote_allowed              15246 non-null   float64\n",
      " 15  job_posting_url             123849 non-null  object \n",
      " 16  application_url             87184 non-null   object \n",
      " 17  application_type            123849 non-null  object \n",
      " 18  expiry                      123849 non-null  float64\n",
      " 19  closed_time                 1073 non-null    float64\n",
      " 20  formatted_experience_level  94440 non-null   object \n",
      " 21  skills_desc                 2439 non-null    object \n",
      " 22  listed_time                 123849 non-null  float64\n",
      " 23  posting_domain              83881 non-null   object \n",
      " 24  sponsored                   123849 non-null  int64  \n",
      " 25  work_type                   123849 non-null  object \n",
      " 26  currency                    36073 non-null   object \n",
      " 27  compensation_type           36073 non-null   object \n",
      " 28  normalized_salary           36073 non-null   float64\n",
      " 29  zip_code                    102977 non-null  float64\n",
      " 30  fips                        96434 non-null   float64\n",
      "dtypes: float64(14), int64(2), object(15)\n",
      "memory usage: 29.3+ MB\n"
     ]
    }
   ],
   "source": [
    "df.info()"
   ]
  },
  {
   "cell_type": "markdown",
   "id": "291cb053-d68c-490a-929b-ff5019572295",
   "metadata": {},
   "source": [
    "#### Data Cleaning - 1"
   ]
  },
  {
   "cell_type": "code",
   "execution_count": 5,
   "id": "c652a805-1b36-4de8-99f2-368e83b019b8",
   "metadata": {},
   "outputs": [
    {
     "data": {
      "text/plain": [
       "0         1.715990e+12\n",
       "1         1.715450e+12\n",
       "2         1.715870e+12\n",
       "3         1.715488e+12\n",
       "4         1.716044e+12\n",
       "              ...     \n",
       "123844    1.716163e+12\n",
       "123845    1.716164e+12\n",
       "123846    1.716164e+12\n",
       "123847    1.716165e+12\n",
       "123848    1.716165e+12\n",
       "Name: expiry, Length: 123849, dtype: float64"
      ]
     },
     "execution_count": 5,
     "metadata": {},
     "output_type": "execute_result"
    }
   ],
   "source": [
    "df['expiry']"
   ]
  },
  {
   "cell_type": "code",
   "execution_count": 6,
   "id": "0d478257-34fd-41e2-9563-4dd68caa1b8c",
   "metadata": {},
   "outputs": [
    {
     "data": {
      "text/plain": [
       "sponsored\n",
       "0    123849\n",
       "Name: count, dtype: int64"
      ]
     },
     "execution_count": 6,
     "metadata": {},
     "output_type": "execute_result"
    }
   ],
   "source": [
    "df['sponsored'].value_counts()"
   ]
  },
  {
   "cell_type": "code",
   "execution_count": 7,
   "id": "6615c4d9-c6d0-4da6-80fb-2ce4b94dd6f4",
   "metadata": {},
   "outputs": [],
   "source": [
    "columns_to_drop = ['job_id', 'company_id', 'job_posting_url', 'application_url', 'expiry', 'closed_time', 'listed_time', 'sponsored', 'description']\n",
    "df = df.drop(columns = columns_to_drop)"
   ]
  },
  {
   "cell_type": "code",
   "execution_count": 8,
   "id": "7a2eff69-270b-49f6-b110-02fdde77c817",
   "metadata": {},
   "outputs": [
    {
     "name": "stdout",
     "output_type": "stream",
     "text": [
      "<class 'pandas.core.frame.DataFrame'>\n",
      "RangeIndex: 123849 entries, 0 to 123848\n",
      "Data columns (total 22 columns):\n",
      " #   Column                      Non-Null Count   Dtype  \n",
      "---  ------                      --------------   -----  \n",
      " 0   company_name                122130 non-null  object \n",
      " 1   title                       123849 non-null  object \n",
      " 2   max_salary                  29793 non-null   float64\n",
      " 3   pay_period                  36073 non-null   object \n",
      " 4   location                    123849 non-null  object \n",
      " 5   views                       122160 non-null  float64\n",
      " 6   med_salary                  6280 non-null    float64\n",
      " 7   min_salary                  29793 non-null   float64\n",
      " 8   formatted_work_type         123849 non-null  object \n",
      " 9   applies                     23320 non-null   float64\n",
      " 10  original_listed_time        123849 non-null  float64\n",
      " 11  remote_allowed              15246 non-null   float64\n",
      " 12  application_type            123849 non-null  object \n",
      " 13  formatted_experience_level  94440 non-null   object \n",
      " 14  skills_desc                 2439 non-null    object \n",
      " 15  posting_domain              83881 non-null   object \n",
      " 16  work_type                   123849 non-null  object \n",
      " 17  currency                    36073 non-null   object \n",
      " 18  compensation_type           36073 non-null   object \n",
      " 19  normalized_salary           36073 non-null   float64\n",
      " 20  zip_code                    102977 non-null  float64\n",
      " 21  fips                        96434 non-null   float64\n",
      "dtypes: float64(10), object(12)\n",
      "memory usage: 20.8+ MB\n"
     ]
    }
   ],
   "source": [
    "df.info()"
   ]
  },
  {
   "cell_type": "code",
   "execution_count": 9,
   "id": "ebe8a546-91e0-4b8f-b178-f4f5a9f366b9",
   "metadata": {},
   "outputs": [
    {
     "data": {
      "text/plain": [
       "company_name                    1719\n",
       "title                              0\n",
       "max_salary                     94056\n",
       "pay_period                     87776\n",
       "location                           0\n",
       "views                           1689\n",
       "med_salary                    117569\n",
       "min_salary                     94056\n",
       "formatted_work_type                0\n",
       "applies                       100529\n",
       "original_listed_time               0\n",
       "remote_allowed                108603\n",
       "application_type                   0\n",
       "formatted_experience_level     29409\n",
       "skills_desc                   121410\n",
       "posting_domain                 39968\n",
       "work_type                          0\n",
       "currency                       87776\n",
       "compensation_type              87776\n",
       "normalized_salary              87776\n",
       "zip_code                       20872\n",
       "fips                           27415\n",
       "dtype: int64"
      ]
     },
     "execution_count": 9,
     "metadata": {},
     "output_type": "execute_result"
    }
   ],
   "source": [
    "df.isnull().sum()"
   ]
  },
  {
   "cell_type": "markdown",
   "id": "58482f62-45f9-4a89-8875-221ad72a3378",
   "metadata": {},
   "source": [
    "#### Data Cleaning 2"
   ]
  },
  {
   "cell_type": "code",
   "execution_count": 10,
   "id": "8b3fc9d4-ca9b-45e7-b888-1957dc90b14b",
   "metadata": {},
   "outputs": [
    {
     "data": {
      "text/plain": [
       "currency\n",
       "USD    36058\n",
       "EUR        6\n",
       "CAD        3\n",
       "BBD        2\n",
       "AUD        2\n",
       "GBP        2\n",
       "Name: count, dtype: int64"
      ]
     },
     "execution_count": 10,
     "metadata": {},
     "output_type": "execute_result"
    }
   ],
   "source": [
    "df['currency'].value_counts()"
   ]
  },
  {
   "cell_type": "code",
   "execution_count": 11,
   "id": "2a808e75-1ad2-44aa-886e-920561c91cf3",
   "metadata": {},
   "outputs": [
    {
     "data": {
      "text/plain": [
       "compensation_type\n",
       "BASE_SALARY    36073\n",
       "Name: count, dtype: int64"
      ]
     },
     "execution_count": 11,
     "metadata": {},
     "output_type": "execute_result"
    }
   ],
   "source": [
    "df['compensation_type'].value_counts()"
   ]
  },
  {
   "cell_type": "code",
   "execution_count": 12,
   "id": "6739b85d-6089-46a1-bd28-88dbdcd1cca5",
   "metadata": {},
   "outputs": [
    {
     "data": {
      "text/plain": [
       "zip_code\n",
       "10001.0    2765\n",
       "60601.0    1837\n",
       "77002.0    1762\n",
       "75201.0    1399\n",
       "30303.0    1367\n",
       "           ... \n",
       "93210.0       1\n",
       "6355.0        1\n",
       "43517.0       1\n",
       "60145.0       1\n",
       "42134.0       1\n",
       "Name: count, Length: 6989, dtype: int64"
      ]
     },
     "execution_count": 12,
     "metadata": {},
     "output_type": "execute_result"
    }
   ],
   "source": [
    "df['zip_code'].value_counts()"
   ]
  },
  {
   "cell_type": "code",
   "execution_count": 13,
   "id": "a3636b33-4f75-44df-b2fb-7a18daf1f889",
   "metadata": {},
   "outputs": [
    {
     "data": {
      "text/plain": [
       "applies\n",
       "1.0      7830\n",
       "2.0      3351\n",
       "3.0      2053\n",
       "4.0      1395\n",
       "5.0      1108\n",
       "         ... \n",
       "470.0       1\n",
       "221.0       1\n",
       "369.0       1\n",
       "406.0       1\n",
       "133.0       1\n",
       "Name: count, Length: 274, dtype: int64"
      ]
     },
     "execution_count": 13,
     "metadata": {},
     "output_type": "execute_result"
    }
   ],
   "source": [
    "df['applies'].value_counts()"
   ]
  },
  {
   "cell_type": "code",
   "execution_count": 14,
   "id": "a7ff1d89-f08b-45a3-8a39-e12090cec236",
   "metadata": {},
   "outputs": [
    {
     "data": {
      "text/plain": [
       "posting_domain\n",
       "www.click2apply.net                     3811\n",
       "click.appcast.io                        2255\n",
       "jsv3.recruitics.com                     1921\n",
       "jobs.smartrecruiters.com                1557\n",
       "boards.greenhouse.io                    1493\n",
       "                                        ... \n",
       "imec.csod.com                              1\n",
       "www.witherscareers.com                     1\n",
       "lattice.com                                1\n",
       "barings.wd1.myworkdayjobs.com              1\n",
       "fordfoundation.wd1.myworkdayjobs.com       1\n",
       "Name: count, Length: 4443, dtype: int64"
      ]
     },
     "execution_count": 14,
     "metadata": {},
     "output_type": "execute_result"
    }
   ],
   "source": [
    "df['posting_domain'].value_counts()"
   ]
  },
  {
   "cell_type": "code",
   "execution_count": 15,
   "id": "5c743c73-af31-40cd-9cd5-22de5359072b",
   "metadata": {},
   "outputs": [],
   "source": [
    "columns_to_drop = ['currency', 'compensation_type', 'normalized_salary', 'zip_code', 'fips', 'skills_desc', 'med_salary', \n",
    "                   'applies', 'posting_domain']\n",
    "df = df.drop(columns = columns_to_drop)"
   ]
  },
  {
   "cell_type": "code",
   "execution_count": 16,
   "id": "88118bfe-cd2a-4af6-ae26-c42922728db5",
   "metadata": {},
   "outputs": [
    {
     "data": {
      "text/plain": [
       "company_name                    1719\n",
       "title                              0\n",
       "max_salary                     94056\n",
       "pay_period                     87776\n",
       "location                           0\n",
       "views                           1689\n",
       "min_salary                     94056\n",
       "formatted_work_type                0\n",
       "original_listed_time               0\n",
       "remote_allowed                108603\n",
       "application_type                   0\n",
       "formatted_experience_level     29409\n",
       "work_type                          0\n",
       "dtype: int64"
      ]
     },
     "execution_count": 16,
     "metadata": {},
     "output_type": "execute_result"
    }
   ],
   "source": [
    "df.isnull().sum()"
   ]
  },
  {
   "cell_type": "markdown",
   "id": "e96ced6b-a3f1-4cfa-a641-f6b0aa10b25f",
   "metadata": {},
   "source": [
    "#### Data Cleaning 3"
   ]
  },
  {
   "cell_type": "code",
   "execution_count": 17,
   "id": "9cd8ab85-64a2-4089-a47d-06c98bf5d58c",
   "metadata": {},
   "outputs": [],
   "source": [
    "df['company_name'] = df['company_name'].fillna('Unknown')"
   ]
  },
  {
   "cell_type": "code",
   "execution_count": 18,
   "id": "97d27a3a-cac0-45a4-a6df-f09bc2af3ef5",
   "metadata": {},
   "outputs": [
    {
     "data": {
      "text/plain": [
       "company_name                       0\n",
       "title                              0\n",
       "max_salary                     94056\n",
       "pay_period                     87776\n",
       "location                           0\n",
       "views                           1689\n",
       "min_salary                     94056\n",
       "formatted_work_type                0\n",
       "original_listed_time               0\n",
       "remote_allowed                108603\n",
       "application_type                   0\n",
       "formatted_experience_level     29409\n",
       "work_type                          0\n",
       "dtype: int64"
      ]
     },
     "execution_count": 18,
     "metadata": {},
     "output_type": "execute_result"
    }
   ],
   "source": [
    "df.isnull().sum()"
   ]
  },
  {
   "cell_type": "code",
   "execution_count": 19,
   "id": "1bc37d41-a65e-498e-aab2-d0c795021123",
   "metadata": {},
   "outputs": [
    {
     "data": {
      "text/plain": [
       "remote_allowed\n",
       "1.0    15246\n",
       "Name: count, dtype: int64"
      ]
     },
     "execution_count": 19,
     "metadata": {},
     "output_type": "execute_result"
    }
   ],
   "source": [
    "df['remote_allowed'].value_counts()"
   ]
  },
  {
   "cell_type": "code",
   "execution_count": 20,
   "id": "37019565-2a08-4c85-9685-87016f5cb728",
   "metadata": {},
   "outputs": [],
   "source": [
    "df['remote_allowed'] = df['remote_allowed'].fillna(0)"
   ]
  },
  {
   "cell_type": "code",
   "execution_count": 21,
   "id": "c7a26bd1-3185-4224-a2ec-52e4cf3924af",
   "metadata": {},
   "outputs": [
    {
     "data": {
      "text/plain": [
       "company_name                      0\n",
       "title                             0\n",
       "max_salary                    94056\n",
       "pay_period                    87776\n",
       "location                          0\n",
       "views                          1689\n",
       "min_salary                    94056\n",
       "formatted_work_type               0\n",
       "original_listed_time              0\n",
       "remote_allowed                    0\n",
       "application_type                  0\n",
       "formatted_experience_level    29409\n",
       "work_type                         0\n",
       "dtype: int64"
      ]
     },
     "execution_count": 21,
     "metadata": {},
     "output_type": "execute_result"
    }
   ],
   "source": [
    "df.isnull().sum()"
   ]
  },
  {
   "cell_type": "markdown",
   "id": "2184323d-995b-4a9b-93e1-fa3c35e90322",
   "metadata": {},
   "source": [
    "#### Data Cleaning 4"
   ]
  },
  {
   "cell_type": "code",
   "execution_count": 22,
   "id": "91ecea2c-526c-4f09-86f0-7adf050dd746",
   "metadata": {},
   "outputs": [],
   "source": [
    "df['views'] = df['views'].fillna(df['views'].median())\n",
    "df['min_salary'] = df['min_salary'].fillna(df['min_salary'].median())"
   ]
  },
  {
   "cell_type": "code",
   "execution_count": 23,
   "id": "bee88a53-a3d8-4c0c-a96e-a518fa6cba54",
   "metadata": {},
   "outputs": [
    {
     "data": {
      "text/plain": [
       "company_name                      0\n",
       "title                             0\n",
       "max_salary                    94056\n",
       "pay_period                    87776\n",
       "location                          0\n",
       "views                             0\n",
       "min_salary                        0\n",
       "formatted_work_type               0\n",
       "original_listed_time              0\n",
       "remote_allowed                    0\n",
       "application_type                  0\n",
       "formatted_experience_level    29409\n",
       "work_type                         0\n",
       "dtype: int64"
      ]
     },
     "execution_count": 23,
     "metadata": {},
     "output_type": "execute_result"
    }
   ],
   "source": [
    "df.isnull().sum()"
   ]
  },
  {
   "cell_type": "code",
   "execution_count": 24,
   "id": "16f20ba4-1579-47ad-b60f-cdf4f6ec9f74",
   "metadata": {},
   "outputs": [
    {
     "data": {
      "text/plain": [
       "formatted_experience_level\n",
       "Mid-Senior level    41489\n",
       "Entry level         36708\n",
       "Associate            9826\n",
       "Director             3746\n",
       "Internship           1449\n",
       "Executive            1222\n",
       "Name: count, dtype: int64"
      ]
     },
     "execution_count": 24,
     "metadata": {},
     "output_type": "execute_result"
    }
   ],
   "source": [
    "df['formatted_experience_level'].value_counts()"
   ]
  },
  {
   "cell_type": "code",
   "execution_count": 25,
   "id": "3eb1091d-113d-44e6-bfa2-281d64dca641",
   "metadata": {},
   "outputs": [],
   "source": [
    "df = df.dropna(subset=['formatted_experience_level'])"
   ]
  },
  {
   "cell_type": "code",
   "execution_count": 26,
   "id": "a39b616e-8ffd-4f5f-9a7e-124da067237e",
   "metadata": {},
   "outputs": [
    {
     "data": {
      "text/plain": [
       "company_name                      0\n",
       "title                             0\n",
       "max_salary                    71344\n",
       "pay_period                    66486\n",
       "location                          0\n",
       "views                             0\n",
       "min_salary                        0\n",
       "formatted_work_type               0\n",
       "original_listed_time              0\n",
       "remote_allowed                    0\n",
       "application_type                  0\n",
       "formatted_experience_level        0\n",
       "work_type                         0\n",
       "dtype: int64"
      ]
     },
     "execution_count": 26,
     "metadata": {},
     "output_type": "execute_result"
    }
   ],
   "source": [
    "df.isnull().sum()"
   ]
  },
  {
   "cell_type": "markdown",
   "id": "0598ffb7-be0f-4cae-9e1f-cb52434b97d2",
   "metadata": {},
   "source": [
    "#### Clean pay_period"
   ]
  },
  {
   "cell_type": "code",
   "execution_count": 27,
   "id": "445f39f0-71b2-4136-b676-601b6705bea0",
   "metadata": {},
   "outputs": [],
   "source": [
    "param_space = {\n",
    "    'n_estimators': (50, 200),\n",
    "    'max_depth': (5, 30),\n",
    "    'min_samples_split': (2, 20),\n",
    "    'min_samples_leaf': (1, 20)\n",
    "}\n",
    "\n",
    "df_impute = df[['views', 'company_name', 'location', 'formatted_work_type', 'remote_allowed', 'formatted_experience_level', 'pay_period', \n",
    "                'title', 'application_type']]"
   ]
  },
  {
   "cell_type": "code",
   "execution_count": 28,
   "id": "aa8b213c-016e-4e9c-80ae-545f30386f76",
   "metadata": {},
   "outputs": [],
   "source": [
    "from sklearn.model_selection import train_test_split\n",
    "from sklearn.preprocessing import LabelEncoder\n",
    "\n",
    "label_encoders = {}\n",
    "for column in ['company_name', 'location', 'formatted_work_type', 'formatted_experience_level', 'application_type', 'title']:\n",
    "    le = LabelEncoder()\n",
    "    df_impute.loc[:, column] = le.fit_transform(df_impute[column].astype(str))\n",
    "    label_encoders[column] = le\n",
    "\n",
    "df_train = df_impute.dropna(subset=['pay_period'])\n",
    "df_missing = df_impute[df_impute['pay_period'].isna()]"
   ]
  },
  {
   "cell_type": "code",
   "execution_count": 29,
   "id": "949e6b77-9c23-455e-a718-ed5b58687059",
   "metadata": {},
   "outputs": [],
   "source": [
    "from sklearn.ensemble import RandomForestClassifier\n",
    "from sklearn.metrics import accuracy_score\n",
    "\n",
    "rf_classifier = RandomForestClassifier(random_state = 42)"
   ]
  },
  {
   "cell_type": "code",
   "execution_count": 30,
   "id": "69e99ae7-1961-4f65-b2bb-d3d0681e6aac",
   "metadata": {},
   "outputs": [],
   "source": [
    "X_train = df_train.drop(columns=['pay_period'])\n",
    "y_train = df_train['pay_period']"
   ]
  },
  {
   "cell_type": "code",
   "execution_count": 31,
   "id": "a6819b0e-747e-4516-ae69-cf76135801f5",
   "metadata": {},
   "outputs": [
    {
     "name": "stdout",
     "output_type": "stream",
     "text": [
      "Fitting 5 folds for each of 1 candidates, totalling 5 fits\n",
      "Fitting 5 folds for each of 1 candidates, totalling 5 fits\n",
      "Fitting 5 folds for each of 1 candidates, totalling 5 fits\n",
      "Fitting 5 folds for each of 1 candidates, totalling 5 fits\n",
      "Fitting 5 folds for each of 1 candidates, totalling 5 fits\n",
      "Fitting 5 folds for each of 1 candidates, totalling 5 fits\n",
      "Fitting 5 folds for each of 1 candidates, totalling 5 fits\n",
      "Fitting 5 folds for each of 1 candidates, totalling 5 fits\n",
      "Fitting 5 folds for each of 1 candidates, totalling 5 fits\n",
      "Fitting 5 folds for each of 1 candidates, totalling 5 fits\n",
      "Fitting 5 folds for each of 1 candidates, totalling 5 fits\n",
      "Fitting 5 folds for each of 1 candidates, totalling 5 fits\n",
      "Fitting 5 folds for each of 1 candidates, totalling 5 fits\n",
      "Fitting 5 folds for each of 1 candidates, totalling 5 fits\n",
      "Fitting 5 folds for each of 1 candidates, totalling 5 fits\n",
      "Fitting 5 folds for each of 1 candidates, totalling 5 fits\n",
      "Fitting 5 folds for each of 1 candidates, totalling 5 fits\n",
      "Fitting 5 folds for each of 1 candidates, totalling 5 fits\n",
      "Fitting 5 folds for each of 1 candidates, totalling 5 fits\n",
      "Fitting 5 folds for each of 1 candidates, totalling 5 fits\n",
      "Best hyperparameters: OrderedDict({'max_depth': 29, 'min_samples_leaf': 1, 'min_samples_split': 5, 'n_estimators': 200})\n"
     ]
    }
   ],
   "source": [
    "from skopt import BayesSearchCV\n",
    "\n",
    "optimize = BayesSearchCV(rf_classifier, param_space, n_iter = 20, random_state = 42, cv = 5, n_jobs = -1, verbose = 1)\n",
    "optimize.fit(X_train, y_train)\n",
    "\n",
    "print(\"Best hyperparameters:\", optimize.best_params_)"
   ]
  },
  {
   "cell_type": "code",
   "execution_count": 32,
   "id": "08d93c64-4a76-4656-893c-0c20b4eec413",
   "metadata": {},
   "outputs": [],
   "source": [
    "predicted_pay_period = optimize.predict(df_missing.drop(columns = ['pay_period']))"
   ]
  },
  {
   "cell_type": "code",
   "execution_count": 33,
   "id": "d989ebca-442f-407e-98e5-0cc52e454995",
   "metadata": {},
   "outputs": [],
   "source": [
    "df.loc[df['pay_period'].isna(), 'pay_period'] = predicted_pay_period"
   ]
  },
  {
   "cell_type": "code",
   "execution_count": 34,
   "id": "38ba9625-9200-45fc-bdc0-f03f225d17a7",
   "metadata": {},
   "outputs": [
    {
     "data": {
      "text/plain": [
       "company_name                      0\n",
       "title                             0\n",
       "max_salary                    71344\n",
       "pay_period                        0\n",
       "location                          0\n",
       "views                             0\n",
       "min_salary                        0\n",
       "formatted_work_type               0\n",
       "original_listed_time              0\n",
       "remote_allowed                    0\n",
       "application_type                  0\n",
       "formatted_experience_level        0\n",
       "work_type                         0\n",
       "dtype: int64"
      ]
     },
     "execution_count": 34,
     "metadata": {},
     "output_type": "execute_result"
    }
   ],
   "source": [
    "df.isnull().sum()"
   ]
  },
  {
   "cell_type": "markdown",
   "id": "3e553909-f842-4148-8fd9-4a7f804067e3",
   "metadata": {},
   "source": [
    "#### Clean max_salary"
   ]
  },
  {
   "cell_type": "code",
   "execution_count": 35,
   "id": "fce0fc01-364b-46ae-98c0-a52798004448",
   "metadata": {},
   "outputs": [],
   "source": [
    "df_impute = df[['views', 'company_name', 'location', 'formatted_work_type', 'remote_allowed', 'formatted_experience_level', 'max_salary', 'title', \n",
    "                'application_type']]\n",
    "\n",
    "label_encoders = {}\n",
    "for column in ['company_name', 'location', 'formatted_work_type', 'formatted_experience_level', 'title', 'application_type']:\n",
    "    le = LabelEncoder()\n",
    "    df_impute.loc[:, column] = le.fit_transform(df_impute[column].astype(str))\n",
    "    label_encoders[column] = le\n",
    "\n",
    "df_train_max_salary = df_impute.dropna(subset=['max_salary'])\n",
    "df_missing_max_salary = df_impute[df_impute['max_salary'].isna()]"
   ]
  },
  {
   "cell_type": "code",
   "execution_count": 36,
   "id": "8bebbd99-9e09-4bd0-8124-f1895238d2a5",
   "metadata": {},
   "outputs": [
    {
     "name": "stdout",
     "output_type": "stream",
     "text": [
      "Fitting 5 folds for each of 1 candidates, totalling 5 fits\n",
      "Fitting 5 folds for each of 1 candidates, totalling 5 fits\n",
      "Fitting 5 folds for each of 1 candidates, totalling 5 fits\n",
      "Fitting 5 folds for each of 1 candidates, totalling 5 fits\n",
      "Fitting 5 folds for each of 1 candidates, totalling 5 fits\n",
      "Fitting 5 folds for each of 1 candidates, totalling 5 fits\n",
      "Fitting 5 folds for each of 1 candidates, totalling 5 fits\n",
      "Fitting 5 folds for each of 1 candidates, totalling 5 fits\n",
      "Fitting 5 folds for each of 1 candidates, totalling 5 fits\n",
      "Fitting 5 folds for each of 1 candidates, totalling 5 fits\n",
      "Fitting 5 folds for each of 1 candidates, totalling 5 fits\n",
      "Fitting 5 folds for each of 1 candidates, totalling 5 fits\n",
      "Fitting 5 folds for each of 1 candidates, totalling 5 fits\n",
      "Fitting 5 folds for each of 1 candidates, totalling 5 fits\n",
      "Fitting 5 folds for each of 1 candidates, totalling 5 fits\n",
      "Fitting 5 folds for each of 1 candidates, totalling 5 fits\n",
      "Fitting 5 folds for each of 1 candidates, totalling 5 fits\n",
      "Fitting 5 folds for each of 1 candidates, totalling 5 fits\n",
      "Fitting 5 folds for each of 1 candidates, totalling 5 fits\n",
      "Fitting 5 folds for each of 1 candidates, totalling 5 fits\n",
      "Best hyperparameters for max_salary: OrderedDict({'max_depth': 23, 'min_samples_leaf': 3, 'min_samples_split': 8, 'n_estimators': 131})\n"
     ]
    }
   ],
   "source": [
    "from sklearn.ensemble import RandomForestRegressor\n",
    "\n",
    "X_train_max_salary = df_train_max_salary.drop(columns=['max_salary'])\n",
    "y_train_max_salary = df_train_max_salary['max_salary']\n",
    "\n",
    "param_space = {\n",
    "    'n_estimators': (50, 200),\n",
    "    'max_depth': (5, 30),\n",
    "    'min_samples_split': (2, 20),\n",
    "    'min_samples_leaf': (1, 20)\n",
    "}\n",
    "\n",
    "optimize_max_salary = BayesSearchCV(RandomForestRegressor(random_state = 42), param_space, n_iter = 20, cv = 5, n_jobs = -1, verbose = 1)\n",
    "optimize_max_salary.fit(X_train_max_salary, y_train_max_salary)\n",
    "\n",
    "print(\"Best hyperparameters for max_salary:\", optimize_max_salary.best_params_)"
   ]
  },
  {
   "cell_type": "code",
   "execution_count": 37,
   "id": "efa2370d-ebc0-467f-9bf6-c91168886573",
   "metadata": {},
   "outputs": [],
   "source": [
    "X_missing_max_salary = df_missing_max_salary.drop(columns=['max_salary'])\n",
    "predicted_max_salary = optimize_max_salary.predict(X_missing_max_salary)\n",
    "\n",
    "df.loc[df['max_salary'].isna(), 'max_salary'] = predicted_max_salary"
   ]
  },
  {
   "cell_type": "code",
   "execution_count": 38,
   "id": "5333c922-a9c5-4dc8-9830-7baf487a3c5f",
   "metadata": {},
   "outputs": [
    {
     "data": {
      "text/plain": [
       "company_name                  0\n",
       "title                         0\n",
       "max_salary                    0\n",
       "pay_period                    0\n",
       "location                      0\n",
       "views                         0\n",
       "min_salary                    0\n",
       "formatted_work_type           0\n",
       "original_listed_time          0\n",
       "remote_allowed                0\n",
       "application_type              0\n",
       "formatted_experience_level    0\n",
       "work_type                     0\n",
       "dtype: int64"
      ]
     },
     "execution_count": 38,
     "metadata": {},
     "output_type": "execute_result"
    }
   ],
   "source": [
    "df.isnull().sum()"
   ]
  },
  {
   "cell_type": "markdown",
   "id": "a73381ff-d682-43f1-97cd-c8a712bfe17a",
   "metadata": {},
   "source": [
    "#### Push to a file"
   ]
  },
  {
   "cell_type": "code",
   "execution_count": 39,
   "id": "02083e45-b728-4c3c-b959-1dbbbad60ba7",
   "metadata": {},
   "outputs": [],
   "source": [
    "df.to_csv('Data/cleaned_postings.csv', index = False)"
   ]
  }
 ],
 "metadata": {
  "kernelspec": {
   "display_name": "Python 3 (ipykernel)",
   "language": "python",
   "name": "python3"
  },
  "language_info": {
   "codemirror_mode": {
    "name": "ipython",
    "version": 3
   },
   "file_extension": ".py",
   "mimetype": "text/x-python",
   "name": "python",
   "nbconvert_exporter": "python",
   "pygments_lexer": "ipython3",
   "version": "3.13.0"
  }
 },
 "nbformat": 4,
 "nbformat_minor": 5
}
